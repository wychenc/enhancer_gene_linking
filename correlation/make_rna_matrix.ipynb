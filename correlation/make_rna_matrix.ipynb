{
 "cells": [
  {
   "cell_type": "code",
   "execution_count": 1,
   "metadata": {
    "collapsed": true
   },
   "outputs": [],
   "source": [
    "import argparse\n",
    "import numpy as np\n",
    "from sklearn.decomposition import PCA\n",
    "#from matplotlib import pyplot as plt"
   ]
  },
  {
   "cell_type": "code",
   "execution_count": 2,
   "metadata": {
    "collapsed": true
   },
   "outputs": [],
   "source": [
    "#def make_rna_matrix(output_path):\n",
    "    # make dictionary with biosample_matched_dnase and gene as keys, counts as value\n",
    "output_path = '/srv/scratch/wychen66/get_correlation/rna_outputs/'\n",
    "d = {}\n",
    "biosample_matched_dnase_set=set()\n",
    "eid_matched_dnase_set=set()\n",
    "gene_id_set=set()\n",
    "bios_cell_d={}\n",
    "bios_eid_d={}\n",
    "bios_color_d={}\n",
    "\n",
    "with open('/mnt/data/integrative/metadata/rna_metadata_2016-12-05.txt','r') as f1: \n",
    "    for l1 in f1:\n",
    "        if \"rsem_quant_file\" in l1: # skip header line\n",
    "            continue\n",
    "        if \"UW_Stam\" not in l1: # only keep data from Stam lab\n",
    "            continue\n",
    "        items = l1.strip().split('\\t')   \n",
    "        if items[7] == \"\":\n",
    "            continue\n",
    "        biosample_matched_dnase = items[7]\n",
    "        rsem_quant_file = items[6]\n",
    "        eid_matched_dnase = items[8]\n",
    "        bios_cell_d[biosample_matched_dnase] = items[10]\n",
    "        bios_color_d[biosample_matched_dnase] = items[12]\n",
    "        \n",
    "        bios_eid_d[biosample_matched_dnase] = eid_matched_dnase\n",
    "        \n",
    "        biosample_matched_dnase_set.add(biosample_matched_dnase)\n",
    "        eid_matched_dnase_set.add(eid_matched_dnase)\n",
    "\n",
    "        with open(rsem_quant_file,'r') as f2: # open rsem link\n",
    "            for l2 in f2:\n",
    "                if \"count\" in l2:\n",
    "                    continue\n",
    "                link = l2.split('\\t')\n",
    "                gene_id = link[0] # did not take transcript_id\n",
    "                expected_count = link[4] \n",
    "                gene_id_set.add(gene_id)\n",
    "\n",
    "                d[(gene_id, biosample_matched_dnase)] = expected_count\n",
    "\n",
    "biosample_matched_dnase_list=list(biosample_matched_dnase_set)\n",
    "eid_matched_dnase_list=list(eid_matched_dnase_set)\n",
    "gene_id_list=list(gene_id_set)\n",
    "\n",
    "np.savetxt(output_path+'rna_biosample_matched_dnase_list.txt', biosample_matched_dnase_list, fmt=\"%s\")\n",
    "np.savetxt(output_path+'rna_gene_id_list.txt', gene_id_list, fmt=\"%s\")"
   ]
  },
  {
   "cell_type": "code",
   "execution_count": 3,
   "metadata": {
    "collapsed": true
   },
   "outputs": [],
   "source": [
    "### This cell contains code from correlate_rna_and_dnase.py\n",
    "ids=[]\n",
    "locs=[]\n",
    "with open('/srv/scratch/wychen66/get_correlation/rna_outputs/all_genes_annotation.gtf', 'r') as f:\n",
    "    for l in f:\n",
    "        items = l.split(';')[0].split('\\t')  \n",
    "        ids.append(items[8])\n",
    "        locs.append(items[0]+'\\t'+items[3]+'\\t'+items[4])"
   ]
  },
  {
   "cell_type": "code",
   "execution_count": 4,
   "metadata": {},
   "outputs": [
    {
     "name": "stdout",
     "output_type": "stream",
     "text": [
      "(7110876, 2)\n",
      "rna matrix shape: (57820, 123)\n",
      "7110876\n"
     ]
    }
   ],
   "source": [
    "# make matrix where rows are gene_id, columns are eid_matched_dnase, and values are counts.\n",
    "len_bio = len(biosample_matched_dnase_list)\n",
    "len_gen = len(gene_id_list)\n",
    "len_eid = len(eid_matched_dnase_list)\n",
    "\n",
    "rna_matrix = np.empty([len_gen, len_bio], dtype=list)\n",
    "rna_d={}\n",
    "\n",
    "for gene_idx in range(len_gen):\n",
    "    current_gene = gene_id_list[gene_idx]\n",
    "    for bios_idx in range(len_bio):\n",
    "        current_bios = biosample_matched_dnase_list[bios_idx]\n",
    "        for match_idx in range(len_bio):\n",
    "            current_match = biosample_matched_dnase_list[match_idx]\n",
    "            current_counts = d.get((current_gene, current_bios))\n",
    "            rna_matrix[gene_idx, bios_idx] = current_counts\n",
    "            \n",
    "            rna_d[(locs[gene_idx].replace(\"\\t\",\",\"),current_bios)] = current_counts\n",
    "\n",
    "\n",
    "rna_d_array = np.array(list(rna_d.items()))\n",
    "print(rna_d_array.shape)\n",
    "\n",
    "# save unlabeled rna matrix to txt\n",
    "np.savetxt(output_path + 'rna_counts_gene-by-cellline_unlabeled.txt', rna_matrix,fmt=\"%s\",delimiter='\\t')\n",
    "\n",
    "# this file is rna_d needed for correlate_rna_and_dnase.py\n",
    "np.savetxt(output_path + 'rna_d_key_loc_sample_val_counts.txt', rna_d_array, fmt=\"%s\",delimiter='\\t')\n",
    "\n",
    "print('rna matrix shape:', rna_matrix.shape)\n",
    "print(len(rna_d))"
   ]
  },
  {
   "cell_type": "code",
   "execution_count": 5,
   "metadata": {
    "collapsed": true
   },
   "outputs": [],
   "source": [
    "#print(len(locs[1]))\n",
    "#print(locs[1])\n",
    "#print(locs[1].replace(\"\\t\",\",\"))"
   ]
  },
  {
   "cell_type": "code",
   "execution_count": 6,
   "metadata": {},
   "outputs": [
    {
     "name": "stdout",
     "output_type": "stream",
     "text": [
      "123 123\n",
      "123\n",
      "['ENCSR174JMM_ENCSR392GCE.Fetal_Heart.UW_Stam.DNase-seq', 'ENCSR437KLY_ENCSR757EPJ.Fetal_Kidney.UW_Stam.DNase-seq']\n"
     ]
    }
   ],
   "source": [
    "# get cell id code:\n",
    "color_list = []\n",
    "tissue_list = []\n",
    "for i in np.arange(len(biosample_matched_dnase_list)):\n",
    "    color = bios_color_d.get(biosample_matched_dnase_list[i])\n",
    "    color_list.append(color)\n",
    "    tissue = bios_cell_d.get(biosample_matched_dnase_list[i])\n",
    "    tissue_list.append(tissue)\n",
    "print(len(color_list), len(tissue_list))\n",
    "print(len(biosample_matched_dnase_list))\n",
    "print(biosample_matched_dnase_list[0:2])"
   ]
  },
  {
   "cell_type": "code",
   "execution_count": 7,
   "metadata": {},
   "outputs": [
    {
     "name": "stdout",
     "output_type": "stream",
     "text": [
      "rna matrix shape: (57820, 123)\n",
      "123\n",
      "bios list starts: ['ENCSR174JMM_ENCSR392GCE.Fetal_Heart.UW_Stam.DNase-seq', 'ENCSR437KLY_ENCSR757EPJ.Fetal_Kidney.UW_Stam.DNase-seq']\n",
      "number of blanks in bios list: 0\n"
     ]
    }
   ],
   "source": [
    "# establish cell type for each pca data point\n",
    "print('rna matrix shape:', rna_matrix.shape)\n",
    "\n",
    "print(len(biosample_matched_dnase_list)) # this is the final rna matrix's column label\n",
    "np.savetxt(output_path+'rna_matrix_column_labels.txt', biosample_matched_dnase_list, fmt=\"%s\",delimiter='\\t')\n",
    "\n",
    "print('bios list starts:', biosample_matched_dnase_list[0:2])\n",
    "print('number of blanks in bios list:', biosample_matched_dnase_list.count(''))"
   ]
  },
  {
   "cell_type": "code",
   "execution_count": 8,
   "metadata": {},
   "outputs": [
    {
     "name": "stdout",
     "output_type": "stream",
     "text": [
      "['', 'ENCSR174JMM_ENCSR392GCE.Fetal_Heart.UW_Stam.DNase-seq', 'ENCSR437KLY_ENCSR757EPJ.Fetal_Kidney.UW_Stam.DNase-seq']\n"
     ]
    }
   ],
   "source": [
    "# add top row with eid_matched_danse of each col, and add left column with gene_id of each row\n",
    "rna_matrix_labeled = np.insert(rna_matrix, 0, gene_id_list, axis=1) \n",
    "bios_matched_dnase_list_title = [''] + biosample_matched_dnase_list # first 2 items are empty\n",
    "rna_matrix_labeled = np.insert(rna_matrix_labeled, 0, [bios_matched_dnase_list_title], axis=0) \n",
    "\n",
    "txt_name2 = output_path + 'rna_counts_gene-by-cellline_labeled.txt'\n",
    "np.savetxt(txt_name2, rna_matrix_labeled,fmt=\"%s\",delimiter='\\t')\n",
    "#awk '{ print $1 }' test_output \n",
    "print(bios_matched_dnase_list_title[0:3])"
   ]
  },
  {
   "cell_type": "code",
   "execution_count": 9,
   "metadata": {},
   "outputs": [
    {
     "name": "stdout",
     "output_type": "stream",
     "text": [
      "(57820, 123)\n",
      "57820\n"
     ]
    }
   ],
   "source": [
    "# first sort rna matrix so that rows of gene_id are ordered according to chromosomal location\n",
    "sorted_rna_matrix = np.zeros([rna_matrix.shape[0],rna_matrix.shape[1]])\n",
    "print(sorted_rna_matrix.shape)\n",
    "\n",
    "gene_labels=[]\n",
    "with open('/srv/scratch/wychen66/get_correlation/rna_outputs/rna_gene_location_list_with_row_number_sorted.bedGraph', 'r') as f:\n",
    "    row_count = 0\n",
    "    for l in f:\n",
    "        idx = int(l.strip().split('\\t')[3])\n",
    "        gene_labels.append(l.strip().split('\\t')[0:3])\n",
    "        sorted_rna_matrix[row_count,:] = rna_matrix[idx,:]\n",
    "        row_count += 1\n",
    "\n",
    "print(len(gene_labels))\n",
    "np.savetxt(output_path+'rna_counts_gene-by-cellline_sorted_unlabeled.txt', sorted_rna_matrix,fmt=\"%s\",delimiter='\\t')\n",
    "np.savetxt(output_path+'rna_counts_gene-by-cellline_sorted_unlabeled_row_label.txt', gene_labels,fmt=\"%s\",delimiter='\\t')\n",
    "np.savetxt(output_path + 'rna_counts_gene-by-cellline_sorted_column_label.txt', biosample_matched_dnase_list,fmt=\"%s\",delimiter='\\t')"
   ]
  },
  {
   "cell_type": "code",
   "execution_count": 10,
   "metadata": {
    "scrolled": true
   },
   "outputs": [
    {
     "data": {
      "text/plain": [
       "\"\\n# below prepares for pca analysis\\nrna_transpose = np.transpose(sorted_rna_matrix)\\nprint('orignal dimensions:', rna_transpose.shape)\\nprint(rna_transpose[0:2,0:2])\\n\\n# normalize over sequencing depth\\ncol_sum = np.sum(rna_transpose,axis=1)\\ncol_sum = col_sum.reshape(col_sum.shape[0],-1) # from (122,) to (122,1)\\n#rna_transpose_depth_normalized = 10000000* np.divide(rna_transpose,col_sum)\\nrna_transpose_depth_normalized = np.arcsinh(10000000* np.divide(rna_transpose,col_sum))\\nprint(rna_transpose_depth_normalized[0:2,0:2])\\n\\n# plot PCA of rna matrix\\npca = PCA(n_components=2)\\npca.fit(rna_transpose_depth_normalized) # fit model to data\\nrna_pca = pca.transform(rna_transpose_depth_normalized) # reduce dimensions\\nprint('reduced dimensions:', rna_pca.shape)\\n\\n# plot PCA output (2)\\ncell_n = np.arange(len(biosample_matched_dnase_list))\\nprint('pca variance ratio:', pca.explained_variance_ratio_)\\n\\nplt.figure(figsize=(10, 10))\\n\\nfor i, c, cell_label in zip(cell_n, color_list, tissue_list): \\n    plt.scatter(rna_pca[i, 0], rna_pca[i, 1], color=c, label=cell_label)\\n    \\nplt.legend(loc='best', shadow=False, scatterpoints=1)\\nplt.title('rna PCA')\\nplt.show()\\n\\n# https://matplotlib.org/examples/statistics/violinplot_demo.html\\npos = np.arange(sorted_rna_matrix.shape[1]) + 1\\ndata = sorted_rna_matrix\\nplt.plot(nrows=5, ncols=5,figsize=(10,10))\\nplt.violinplot(data, pos, points=20, widths=1, showmeans=True, showextrema=True, showmedians=True)\\n\\nplt.title('rna violin plot')\\nplt.show()\\n\\n# density plot across ~ 100 samples overlaid on eachother\\n\\nprint(sorted_rna_matrix.shape)\\nx = np.arange(sorted_rna_matrix.shape[0])\\n\\ny = []\\nfor i in np.arange(sorted_rna_matrix.shape[1]):\\n    y.append(sorted_rna_matrix[:,i])\\n\\ny = np.transpose(y)\\n\\nplt.figure(figsize=(10, 10))\\nplt.plot(x,y,'k',linewidth=0.1)\\nplt.title('rna density plot across 123 samples')\\nplt.xlabel('57820 genes')\\nplt.ylabel('counts')\\nplt.show()\\n\\n\\n# make frequency plot of each column of dnase_matrix taking on various values\\nprint('sorted_rna_matrix shape:',sorted_rna_matrix.shape)\\nprint('matrix maximum:',np.amax(sorted_rna_matrix), '  matrix minimum:',np.amin(sorted_rna_matrix))\\n\\nfreq_matrix = np.zeros([123,100])\\ntick_marks = np.linspace(-1, 22889435, 101)\\n\\nfor sample in np.arange(123):\\n    left_tick = 0\\n    right_tick = 1\\n    for frame in np.arange(100):\\n        freq_matrix[sample,frame] = ((left_tick < sorted_rna_matrix[:,sample]) & (sorted_rna_matrix[:,sample] < right_tick)).sum()\\n        left_tick += 1\\n        right_tick += 1\\n\\n#print(freq_matrix)\\n#print(np.sum(freq_matrix, axis=0))\\n\\nx = tick_marks[0:100]\\ny = np.transpose(freq_matrix)\\n\\nplt.figure(figsize=(10, 10))\\nplt.plot(x,y,'k',linewidth=0.1)\\nplt.title('frequency plot of each column of sorted_rna_matrix taking on various values across 123 samples')\\nplt.xlabel('count values in sorted_rna_matrix')\\nplt.ylabel('frequency of count value')\\nplt.show()\\n\""
      ]
     },
     "execution_count": 10,
     "metadata": {},
     "output_type": "execute_result"
    }
   ],
   "source": [
    "'''\n",
    "# below prepares for pca analysis\n",
    "rna_transpose = np.transpose(sorted_rna_matrix)\n",
    "print('orignal dimensions:', rna_transpose.shape)\n",
    "print(rna_transpose[0:2,0:2])\n",
    "\n",
    "# normalize over sequencing depth\n",
    "col_sum = np.sum(rna_transpose,axis=1)\n",
    "col_sum = col_sum.reshape(col_sum.shape[0],-1) # from (122,) to (122,1)\n",
    "#rna_transpose_depth_normalized = 10000000* np.divide(rna_transpose,col_sum)\n",
    "rna_transpose_depth_normalized = np.arcsinh(10000000* np.divide(rna_transpose,col_sum))\n",
    "print(rna_transpose_depth_normalized[0:2,0:2])\n",
    "\n",
    "# plot PCA of rna matrix\n",
    "pca = PCA(n_components=2)\n",
    "pca.fit(rna_transpose_depth_normalized) # fit model to data\n",
    "rna_pca = pca.transform(rna_transpose_depth_normalized) # reduce dimensions\n",
    "print('reduced dimensions:', rna_pca.shape)\n",
    "\n",
    "# plot PCA output (2)\n",
    "cell_n = np.arange(len(biosample_matched_dnase_list))\n",
    "print('pca variance ratio:', pca.explained_variance_ratio_)\n",
    "\n",
    "plt.figure(figsize=(10, 10))\n",
    "\n",
    "for i, c, cell_label in zip(cell_n, color_list, tissue_list): \n",
    "    plt.scatter(rna_pca[i, 0], rna_pca[i, 1], color=c, label=cell_label)\n",
    "    \n",
    "plt.legend(loc='best', shadow=False, scatterpoints=1)\n",
    "plt.title('rna PCA')\n",
    "plt.show()\n",
    "\n",
    "# https://matplotlib.org/examples/statistics/violinplot_demo.html\n",
    "pos = np.arange(sorted_rna_matrix.shape[1]) + 1\n",
    "data = sorted_rna_matrix\n",
    "plt.plot(nrows=5, ncols=5,figsize=(10,10))\n",
    "plt.violinplot(data, pos, points=20, widths=1, showmeans=True, showextrema=True, showmedians=True)\n",
    "\n",
    "plt.title('rna violin plot')\n",
    "plt.show()\n",
    "\n",
    "# density plot across ~ 100 samples overlaid on eachother\n",
    "\n",
    "print(sorted_rna_matrix.shape)\n",
    "x = np.arange(sorted_rna_matrix.shape[0])\n",
    "\n",
    "y = []\n",
    "for i in np.arange(sorted_rna_matrix.shape[1]):\n",
    "    y.append(sorted_rna_matrix[:,i])\n",
    "\n",
    "y = np.transpose(y)\n",
    "\n",
    "plt.figure(figsize=(10, 10))\n",
    "plt.plot(x,y,'k',linewidth=0.1)\n",
    "plt.title('rna density plot across 123 samples')\n",
    "plt.xlabel('57820 genes')\n",
    "plt.ylabel('counts')\n",
    "plt.show()\n",
    "\n",
    "\n",
    "# make frequency plot of each column of dnase_matrix taking on various values\n",
    "print('sorted_rna_matrix shape:',sorted_rna_matrix.shape)\n",
    "print('matrix maximum:',np.amax(sorted_rna_matrix), '  matrix minimum:',np.amin(sorted_rna_matrix))\n",
    "\n",
    "freq_matrix = np.zeros([123,100])\n",
    "tick_marks = np.linspace(-1, 22889435, 101)\n",
    "\n",
    "for sample in np.arange(123):\n",
    "    left_tick = 0\n",
    "    right_tick = 1\n",
    "    for frame in np.arange(100):\n",
    "        freq_matrix[sample,frame] = ((left_tick < sorted_rna_matrix[:,sample]) & (sorted_rna_matrix[:,sample] < right_tick)).sum()\n",
    "        left_tick += 1\n",
    "        right_tick += 1\n",
    "\n",
    "#print(freq_matrix)\n",
    "#print(np.sum(freq_matrix, axis=0))\n",
    "\n",
    "x = tick_marks[0:100]\n",
    "y = np.transpose(freq_matrix)\n",
    "\n",
    "plt.figure(figsize=(10, 10))\n",
    "plt.plot(x,y,'k',linewidth=0.1)\n",
    "plt.title('frequency plot of each column of sorted_rna_matrix taking on various values across 123 samples')\n",
    "plt.xlabel('count values in sorted_rna_matrix')\n",
    "plt.ylabel('frequency of count value')\n",
    "plt.show()\n",
    "'''"
   ]
  },
  {
   "cell_type": "code",
   "execution_count": 11,
   "metadata": {},
   "outputs": [
    {
     "data": {
      "text/plain": [
       "\"\\ndef Main():\\n    parser = argparse.ArgumentParser()\\n    parser.add_argument('output_path', help='The desired path to the output files, ending with a forward slash.', type=str)\\n    args = parser.parse_args()\\n    result = make_rna_matrix(args.output_path)\\n    print('Path to the output: ' + str(args.output_path) + 'rna_counts_gene-by-cellline.txt')\\n    \\nif __name__ == '__main__':\\n    Main()\\n    \""
      ]
     },
     "execution_count": 11,
     "metadata": {},
     "output_type": "execute_result"
    }
   ],
   "source": [
    "'''\n",
    "def Main():\n",
    "    parser = argparse.ArgumentParser()\n",
    "    parser.add_argument('output_path', help='The desired path to the output files, ending with a forward slash.', type=str)\n",
    "    args = parser.parse_args()\n",
    "    result = make_rna_matrix(args.output_path)\n",
    "    print('Path to the output: ' + str(args.output_path) + 'rna_counts_gene-by-cellline.txt')\n",
    "    \n",
    "if __name__ == '__main__':\n",
    "    Main()\n",
    "    '''"
   ]
  },
  {
   "cell_type": "code",
   "execution_count": 12,
   "metadata": {
    "collapsed": true
   },
   "outputs": [],
   "source": [
    "# below cells are from make_dnase_matrix.py"
   ]
  },
  {
   "cell_type": "code",
   "execution_count": 13,
   "metadata": {
    "collapsed": true
   },
   "outputs": [],
   "source": [
    "dnase_matrix = np.loadtxt('/srv/scratch/wychen66/get_correlation/dnase_outputs/second_try/final_dnase_matrix.txt',dtype=float)\n",
    "\n",
    "# bios_eid_for_dnase_matrix is the column labels for final_dnase_matrix.txt\n",
    "dnase_bios_labels=[]\n",
    "with open('/srv/scratch/wychen66/get_correlation/dnase_outputs/second_try/bios_eid_for_final_dnase_matrix.txt','r') as f1: \n",
    "    for l1 in f1:\n",
    "        items = l1.strip().split('\\t')\n",
    "        dnase_bios_labels.append(items[0])\n",
    "\n",
    "# dnase_labels is sample (also folder name) in dna_d:\n",
    "dnase_labels =[] # this is reliable\n",
    "with open('/srv/scratch/wychen66/get_correlation/dnase_outputs/second_try/folder_name.txt', encoding = 'ISO-8859-1') as f2: \n",
    "    for l2 in f2:\n",
    "        l2=l2.strip()\n",
    "        dnase_labels.append(l2)\n",
    "\n",
    "# /srv/scratch/wychen66/get_correlation/dnase_outputs/idr_files_merged.bed is a list of dnase locations in matrix\n",
    "dna_loc = []\n",
    "with open('/srv/scratch/wychen66/get_correlation/dnase_outputs/idr_files_merged.bed','r') as f3: # a list with 762379 items\n",
    "    for l3 in f3:\n",
    "        l3 = l3.strip().split('\\t')\n",
    "        l3 = l3[0]+','+l3[1]+','+l3[2]\n",
    "        dna_loc.append(l3)\n",
    "\n",
    "# dnase_matrix has counts for dna_d, so make dna_d:\n",
    "dna_d = {}\n",
    "for r in np.arange(dnase_matrix.shape[0]):\n",
    "    for c in np.arange(dnase_matrix.shape[1]):\n",
    "        dna_d[(dna_loc[r],dnase_labels[c].replace(\" \",\"_\"))] = dnase_matrix[r,c] # is this right???\n",
    "        "
   ]
  },
  {
   "cell_type": "code",
   "execution_count": 14,
   "metadata": {
    "collapsed": true
   },
   "outputs": [],
   "source": [
    "# code below are from correlate_rna_and_dnase.py"
   ]
  },
  {
   "cell_type": "code",
   "execution_count": 15,
   "metadata": {},
   "outputs": [
    {
     "name": "stdout",
     "output_type": "stream",
     "text": [
      "rna tissue labels: 123\n",
      "dnase tissue labels: 122\n",
      "122\n"
     ]
    }
   ],
   "source": [
    "#http://www.gencodegenes.org/gencodeformat.html\n",
    "all_genes_ann = '/srv/scratch/wychen66/get_correlation/rna_outputs/all_genes_annotation.gtf'\n",
    "rna_gene_id = '/srv/scratch/wychen66/get_correlation/rna_outputs/rna_gene_id_list.txt'\n",
    "rna_gene_loc = '/srv/scratch/wychen66/get_correlation/rna_outputs/'\n",
    "\n",
    "rna_matrix = '/srv/scratch/wychen66/get_correlation/rna_outputs/rna_counts_gene-by-cellline_unlabeled.txt' # (57820, 123)\n",
    "dnase_matrix = '/srv/scratch/wychen66/get_correlation/dnase_outputs/second_try/final_dnase_matrix.txt' # (762379,122)\n",
    "rna_cell_labels = '/srv/scratch/wychen66/get_correlation/rna_outputs/rna_biosample_matched_dnase_list.txt' # 123\n",
    "dnase_cell_labels = '/srv/scratch/wychen66/get_correlation/dnase_outputs/second_try/bios_eid_for_final_dnase_matrix.txt' #122\n",
    "dnase_folder_name = '/srv/scratch/wychen66/get_correlation/dnase_outputs/second_try/folder_name.txt' # 122\n",
    "\n",
    "rna_labels =[]\n",
    "with open(rna_cell_labels,encoding = 'ISO-8859-1') as f1: \n",
    "    for l1 in f1:\n",
    "        l1=l1.strip()\n",
    "        rna_labels.append(l1)\n",
    "\n",
    "rna_labels_set = set(rna_labels)\n",
    "print('rna tissue labels:',len(rna_labels))\n",
    "\n",
    "dnase_labels =[]\n",
    "with open(dnase_folder_name, encoding = 'ISO-8859-1') as f2: \n",
    "    for l2 in f2:\n",
    "        l2=l2.strip()\n",
    "        dnase_labels.append(l2)\n",
    "\n",
    "dnase_labels_set = set(dnase_labels)\n",
    "print('dnase tissue labels:', len(dnase_labels))\n",
    "\n",
    "# dictionary where key is index of rna cell list, and value is index of dnase cell list\n",
    "d={}\n",
    "for d_i in np.arange(len(dnase_labels)):\n",
    "    r_i = rna_labels.index(dnase_labels[d_i])\n",
    "    d[r_i] = d_i\n",
    "    \n",
    "print(len(d))\n",
    "\n",
    "# convert gene_id (ids) in rna_matrix to chrom locations (locs)\n",
    "genes =[]\n",
    "with open(rna_gene_id, encoding = 'ISO-8859-1') as f3: \n",
    "    for l3 in f3:\n",
    "        l3=l3.strip()\n",
    "        genes.append(l3)\n",
    "\n",
    "ids=[]\n",
    "locs=[]\n",
    "with open(all_genes_ann, 'r') as f:\n",
    "    for l in f:\n",
    "        items = l.split(';')[0].split('\\t')  \n",
    "        ids.append(items[8])\n",
    "        locs.append(items[0]+'\\t'+items[3]+'\\t'+items[4])\n",
    "\n",
    "# takes ~15 min to run\n",
    "loc_list = []\n",
    "counter = 0\n",
    "for i in np.arange(len(genes)):\n",
    "    idx = [ids.index(j) for j in ids if genes[i] in j][0] # [0] changes list to just int\n",
    "    loc_list.append(locs[idx]+'\\t'+str(counter))\n",
    "    counter += 1\n",
    "\n",
    "np.savetxt('/srv/scratch/wychen66/get_correlation/rna_outputs/rna_gene_location_list_with_row_number.bedGraph', loc_list, fmt=\"%s\")\n",
    "\n",
    "# loc of dnase peaks for dnase matrix is idr_files_merged.bed"
   ]
  },
  {
   "cell_type": "code",
   "execution_count": 16,
   "metadata": {
    "collapsed": true
   },
   "outputs": [],
   "source": [
    "loc_d = {} # dictionary where key is rna loc and value is list of dnase locs < 1 MB\n",
    "with open('/srv/scratch/wychen66/get_correlation/bed_overlap/dnase_within_1MB_of_rna.bed','r') as f4: # 32810450 lines\n",
    "    for l4 in f4:\n",
    "        items = l4.strip().split('\\t')\n",
    "        if tuple(items[0:3]) in loc_d:\n",
    "            loc_d[tuple(items[0:3])].append(items[3:6]) # try to insert |t between chr, start & finish to make a list of char     \n",
    "        else:\n",
    "            loc_d[tuple(items[0:3])] = [items[3:6]]"
   ]
  },
  {
   "cell_type": "code",
   "execution_count": 17,
   "metadata": {},
   "outputs": [
    {
     "name": "stdout",
     "output_type": "stream",
     "text": [
      "('chr1', '206506678', '206506789')\n"
     ]
    }
   ],
   "source": [
    "print(tuple(items[0:3]))"
   ]
  },
  {
   "cell_type": "code",
   "execution_count": 18,
   "metadata": {
    "collapsed": true
   },
   "outputs": [],
   "source": [
    "# everything above runs fine, but need to comment out/re-code below:"
   ]
  },
  {
   "cell_type": "code",
   "execution_count": 19,
   "metadata": {
    "collapsed": true
   },
   "outputs": [],
   "source": [
    "#print(len(locs[1]))\n",
    "#print(locs[1])\n",
    "#print(locs[1].replace(\"\\t\",\",\"))"
   ]
  },
  {
   "cell_type": "markdown",
   "metadata": {},
   "source": [
    "To get rna-dnase correlation make 2 lists of sample len():\n",
    "- list of rna-dna location pair\n",
    "- list of rna-dna count correlation score across all the samples:\n",
    "    - get rna count as a 122-long vector\n",
    "    - get dna count as a 122-long vector\n",
    "    - apply pearsonr / spearmanr to the vectors to get 1 correlation score"
   ]
  },
  {
   "cell_type": "code",
   "execution_count": null,
   "metadata": {},
   "outputs": [
    {
     "name": "stdout",
     "output_type": "stream",
     "text": [
      "length of loc_list (rna-dnase location pairings):  32810450\n"
     ]
    }
   ],
   "source": [
    "# get loc list\n",
    "loc_list = []\n",
    "\n",
    "for rna_loc in loc_d: # loc_d = {} is a dictionary where key is rna loc and value is list of dnase locs < 1 MB\n",
    "    dna_loc_list = loc_d[rna_loc]\n",
    "    for dna_loc in dna_loc_list:\n",
    "        loc_list.append((rna_loc, dna_loc)) # stores tuple of rna-dnase loc pairing\n",
    "     \n",
    "print('length of loc_list (rna-dnase location pairings): ', len(loc_list))"
   ]
  },
  {
   "cell_type": "code",
   "execution_count": null,
   "metadata": {},
   "outputs": [
    {
     "name": "stderr",
     "output_type": "stream",
     "text": [
      "/home/wychen66/anaconda3/lib/python3.6/site-packages/scipy/stats/stats.py:3021: RuntimeWarning: invalid value encountered in double_scalars\n",
      "  r = r_num / r_den\n",
      "/home/wychen66/anaconda3/lib/python3.6/site-packages/numpy/lib/function_base.py:3003: RuntimeWarning: invalid value encountered in true_divide\n",
      "  c /= stddev[:, None]\n",
      "/home/wychen66/anaconda3/lib/python3.6/site-packages/numpy/lib/function_base.py:3004: RuntimeWarning: invalid value encountered in true_divide\n",
      "  c /= stddev[None, :]\n",
      "/home/wychen66/anaconda3/lib/python3.6/site-packages/scipy/stats/_distn_infrastructure.py:879: RuntimeWarning: invalid value encountered in greater\n",
      "  return (self.a < x) & (x < self.b)\n",
      "/home/wychen66/anaconda3/lib/python3.6/site-packages/scipy/stats/_distn_infrastructure.py:879: RuntimeWarning: invalid value encountered in less\n",
      "  return (self.a < x) & (x < self.b)\n",
      "/home/wychen66/anaconda3/lib/python3.6/site-packages/scipy/stats/_distn_infrastructure.py:1818: RuntimeWarning: invalid value encountered in less_equal\n",
      "  cond2 = cond0 & (x <= self.a)\n"
     ]
    }
   ],
   "source": [
    "# get correlation scores for each rna-dnase pair in loc_list\n",
    "from scipy.stats.stats import pearsonr\n",
    "from scipy.stats.stats import spearmanr\n",
    "score_list_pearson = []\n",
    "score_list_spearman = []\n",
    "\n",
    "# make 1 pass through this and give both real and shuffled corr\n",
    "\n",
    "counter=0\n",
    "for rna_loc in loc_d: # for each rna loc\n",
    "    dna_loc_list = loc_d[rna_loc] # get list of dna loc <1MB\n",
    "    \n",
    "    rna_ct_all_samples = [] # list of rna counts across 122 samples for 1 specific rna loc\n",
    "    for rna_idx in d.keys(): # for idx to each sample\n",
    "        sample = rna_labels[rna_idx] ### eval for chr21\n",
    "        rna_loc_joint = rna_loc[0]+\",\"+rna_loc[1]+\",\"+rna_loc[2] # chr10,13771383,13798200\n",
    "        rna_ct_all_samples.append(rna_d[(rna_loc_joint, sample)]) # got rna counts vector for 1 rna loc\n",
    "    \n",
    "    for dna_loc in dna_loc_list: # for each <1MB dna loc\n",
    "        \n",
    "        dna_ct_all_samples = [] # list of dna counts across 122 samples for 1 specific dnase loc\n",
    "        dna_loc_joint = dna_loc[0]+\",\"+dna_loc[1]+\",\"+dna_loc[2] # see if necessary\n",
    "        for rna_idx in d.keys(): # for idx to each sample\n",
    "            sample = rna_labels[rna_idx] \n",
    "            dna_ct_all_samples.append(dna_d[(dna_loc_joint, sample)]) # got dnase counts vector for 1 <1MB dnase\n",
    "        \n",
    "        rna_vec = np.asarray(rna_ct_all_samples).astype(np.float)\n",
    "        dna_vec = np.asarray(dna_ct_all_samples).astype(np.float)\n",
    "    \n",
    "        score_list_pearson.append(pearsonr(rna_vec, dna_vec))\n",
    "        score_list_spearman.append(spearmanr(rna_vec, dna_vec))\n",
    "                       \n",
    "    counter += 1\n",
    "    if (counter%10) == 100000: \n",
    "        print(counter)\n",
    "\n",
    "print(len(score_list_pearson), len(score_list_spearman), len(rna_ct_all_samples), len(dna_ct_all_samples))"
   ]
  },
  {
   "cell_type": "code",
   "execution_count": null,
   "metadata": {
    "collapsed": true
   },
   "outputs": [],
   "source": [
    "# save loc_list, score_list_pearson, score_list_spearman to txt\n",
    "np.savetxt('/srv/scratch/wychen66/get_correlation/list_of_rna-dnase-pairs_for_correlation.txt', loc_list, fmt=\"%s\")\n",
    "np.savetxt('/srv/scratch/wychen66/get_correlation/pearson_correlation_for_list_of_rna-dnase-pairs.txt', score_list_pearson, fmt=\"%s\")\n",
    "np.savetxt('/srv/scratch/wychen66/get_correlation/spearman_correlation_for_list_of_rna-dnase-pairs.txt', score_list_spearman, fmt=\"%s\")"
   ]
  },
  {
   "cell_type": "code",
   "execution_count": null,
   "metadata": {
    "collapsed": true
   },
   "outputs": [],
   "source": [
    "# this cell crashes the server:\n",
    "# make dictionary (counts_all_d) where key is cell type, val is counts_d, containing dnase counts for each rna counts\n",
    "'''\n",
    "counts_all_d = {} \n",
    "\n",
    "for rna_idx in d.keys(): # for each cell type (rna_idx is index of rna cell label list)\n",
    "    sample = rna_labels[rna_idx]\n",
    "    counts_d = {} # dictionary where key is rna counts and value is total counts of dnase < 1MB for 1 cell type\n",
    "    \n",
    "    for rna_loc in loc_d: # change loc_d code above so that rna_loc can match rna_d keys in format??\n",
    "        rna_loc_joined = rna_loc[0]+\",\"+rna_loc[1]+\",\"+rna_loc[2] # chr10,13771383,13798200\n",
    "        rna_count = rna_d[(rna_loc_joined, sample)]\n",
    "        dna_loc_list = loc_d[rna_loc]\n",
    "        \n",
    "        dna_count = 0\n",
    "        for dna_loc in dna_loc_list: # change dna_loc_list code above so that dna_loc can match dna_d keys in format??\n",
    "            dna_loc = dna_loc[0]+\",\"+dna_loc[1]+\",\"+dna_loc[2]\n",
    "            dna_count += dna_d[(dna_loc, sample)] # keyError\n",
    "        counts_d[rna_count] = dna_count # should have 57695 items\n",
    "    counts_all_d[rna_idx] = counts_d \n",
    "\n",
    "print(len(counts_d))\n",
    "'''"
   ]
  },
  {
   "cell_type": "markdown",
   "metadata": {},
   "source": [
    "notes: \n",
    "- the biosample_matched_rna will establish rna-dnase pairs for later correlation\n",
    "- but the eid will be the cell line"
   ]
  }
 ],
 "metadata": {
  "kernelspec": {
   "display_name": "Python 3",
   "language": "python",
   "name": "python3"
  },
  "language_info": {
   "codemirror_mode": {
    "name": "ipython",
    "version": 3
   },
   "file_extension": ".py",
   "mimetype": "text/x-python",
   "name": "python",
   "nbconvert_exporter": "python",
   "pygments_lexer": "ipython3",
   "version": "3.6.1"
  }
 },
 "nbformat": 4,
 "nbformat_minor": 2
}
